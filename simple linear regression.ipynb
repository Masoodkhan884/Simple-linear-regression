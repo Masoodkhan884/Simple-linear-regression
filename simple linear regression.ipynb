{
 "cells": [
  {
   "cell_type": "markdown",
   "id": "62b82c97-df97-43ec-b0ae-4c4cae05bfb7",
   "metadata": {},
   "source": [
    "# Import laibraries"
   ]
  },
  {
   "cell_type": "code",
   "execution_count": 28,
   "id": "9ce1b3f8-5990-4302-bd27-dfb93216bbbf",
   "metadata": {},
   "outputs": [],
   "source": [
    "import pandas as pd\n",
    "import numpy as np\n",
    "import seaborn as sns\n",
    "import matplotlib.pyplot as plt"
   ]
  },
  {
   "cell_type": "markdown",
   "id": "45446fcc-d7e9-47e9-b707-1e21778efd3d",
   "metadata": {},
   "source": [
    "# load dataset"
   ]
  },
  {
   "cell_type": "code",
   "execution_count": 29,
   "id": "0159fd76-f7b8-4d1c-9073-76d8dc7d97fd",
   "metadata": {},
   "outputs": [],
   "source": [
    "data=pd.read_csv('placement.csv')"
   ]
  },
  {
   "cell_type": "code",
   "execution_count": 37,
   "id": "1f4ac540-9d84-4edd-ba71-884bc03e055c",
   "metadata": {},
   "outputs": [
    {
     "data": {
      "text/html": [
       "<div>\n",
       "<style scoped>\n",
       "    .dataframe tbody tr th:only-of-type {\n",
       "        vertical-align: middle;\n",
       "    }\n",
       "\n",
       "    .dataframe tbody tr th {\n",
       "        vertical-align: top;\n",
       "    }\n",
       "\n",
       "    .dataframe thead th {\n",
       "        text-align: right;\n",
       "    }\n",
       "</style>\n",
       "<table border=\"1\" class=\"dataframe\">\n",
       "  <thead>\n",
       "    <tr style=\"text-align: right;\">\n",
       "      <th></th>\n",
       "      <th>cgpa</th>\n",
       "      <th>package</th>\n",
       "    </tr>\n",
       "  </thead>\n",
       "  <tbody>\n",
       "    <tr>\n",
       "      <th>0</th>\n",
       "      <td>6.89</td>\n",
       "      <td>3.26</td>\n",
       "    </tr>\n",
       "    <tr>\n",
       "      <th>1</th>\n",
       "      <td>5.12</td>\n",
       "      <td>1.98</td>\n",
       "    </tr>\n",
       "    <tr>\n",
       "      <th>2</th>\n",
       "      <td>7.82</td>\n",
       "      <td>3.25</td>\n",
       "    </tr>\n",
       "    <tr>\n",
       "      <th>3</th>\n",
       "      <td>7.42</td>\n",
       "      <td>3.67</td>\n",
       "    </tr>\n",
       "    <tr>\n",
       "      <th>4</th>\n",
       "      <td>6.94</td>\n",
       "      <td>3.57</td>\n",
       "    </tr>\n",
       "  </tbody>\n",
       "</table>\n",
       "</div>"
      ],
      "text/plain": [
       "   cgpa  package\n",
       "0  6.89     3.26\n",
       "1  5.12     1.98\n",
       "2  7.82     3.25\n",
       "3  7.42     3.67\n",
       "4  6.94     3.57"
      ]
     },
     "execution_count": 37,
     "metadata": {},
     "output_type": "execute_result"
    }
   ],
   "source": [
    "data.head()"
   ]
  },
  {
   "cell_type": "markdown",
   "id": "b0720c46-df1a-4c3f-b670-3a56873bba83",
   "metadata": {},
   "source": [
    "# EDA operations"
   ]
  },
  {
   "cell_type": "markdown",
   "id": "08c51de6-7003-492e-be7b-ca53c3799fd5",
   "metadata": {},
   "source": [
    "# Exploratory Data Analysis (EDA)\r\n",
    "\r\n",
    "Exploratory Data Analysis (EDA) is a crucial step in the data analysis process. It involves summarizing the main characteristics of a dataset, often using visual methods. EDA helps data scientists and analysts to understand the data, identify patterns, spot anomalies, test hypotheses, and check assumptions through various statistical and graphical techniques. This process is essential for making informed decisions about the subsequent steps in the data analysis or modeling pipeline.\r\n",
    "\r\n",
    "## Key Steps in EDA\r\n",
    "\r\n",
    "### 1. Understanding the Data Structure\r\n",
    "The first step in EDA is to understand the structure of the data. This includes:\r\n",
    "- **Data Types**: Identifying the types of variables (numerical, categorical, datetime, etc.).\r\n",
    "- **Shape of the Data**: Knowing the number of rows and columns.\r\n",
    "- **Missing Values**: Detecting missing or null values and determining their distribution.\r\n",
    "- **Basic Statistics**: Calculating summary statistics (mean, median, mode, standard deviation, etc.) for numericacs\r\n",
    "print(df.describe())\r\n",
    "plt.show()\r\n",
    "her can provide a more comprehensive understanding of the model's performance.\r\n"
   ]
  },
  {
   "cell_type": "code",
   "execution_count": 39,
   "id": "f4ca6343-aed9-4cdc-8801-f9beec8592f4",
   "metadata": {},
   "outputs": [
    {
     "data": {
      "text/plain": [
       "cgpa       0\n",
       "package    0\n",
       "dtype: int64"
      ]
     },
     "execution_count": 39,
     "metadata": {},
     "output_type": "execute_result"
    }
   ],
   "source": [
    "# To check null values\n",
    "data.isnull().sum()"
   ]
  },
  {
   "cell_type": "code",
   "execution_count": 41,
   "id": "95386ee1-4db0-45d7-a2fc-f046a5e9b6c6",
   "metadata": {},
   "outputs": [
    {
     "data": {
      "text/plain": [
       "0"
      ]
     },
     "execution_count": 41,
     "metadata": {},
     "output_type": "execute_result"
    }
   ],
   "source": [
    "# T0 check for duplicte rows \n",
    "data.duplicated().sum()"
   ]
  },
  {
   "cell_type": "code",
   "execution_count": 44,
   "id": "1e788d61-c9fc-4aa3-a4d6-d4673385aa6c",
   "metadata": {},
   "outputs": [
    {
     "data": {
      "text/html": [
       "<div>\n",
       "<style scoped>\n",
       "    .dataframe tbody tr th:only-of-type {\n",
       "        vertical-align: middle;\n",
       "    }\n",
       "\n",
       "    .dataframe tbody tr th {\n",
       "        vertical-align: top;\n",
       "    }\n",
       "\n",
       "    .dataframe thead th {\n",
       "        text-align: right;\n",
       "    }\n",
       "</style>\n",
       "<table border=\"1\" class=\"dataframe\">\n",
       "  <thead>\n",
       "    <tr style=\"text-align: right;\">\n",
       "      <th></th>\n",
       "      <th>cgpa</th>\n",
       "      <th>package</th>\n",
       "    </tr>\n",
       "  </thead>\n",
       "  <tbody>\n",
       "    <tr>\n",
       "      <th>count</th>\n",
       "      <td>200.000000</td>\n",
       "      <td>200.000000</td>\n",
       "    </tr>\n",
       "    <tr>\n",
       "      <th>mean</th>\n",
       "      <td>6.990500</td>\n",
       "      <td>2.996050</td>\n",
       "    </tr>\n",
       "    <tr>\n",
       "      <th>std</th>\n",
       "      <td>1.069409</td>\n",
       "      <td>0.691644</td>\n",
       "    </tr>\n",
       "    <tr>\n",
       "      <th>min</th>\n",
       "      <td>4.260000</td>\n",
       "      <td>1.370000</td>\n",
       "    </tr>\n",
       "    <tr>\n",
       "      <th>25%</th>\n",
       "      <td>6.190000</td>\n",
       "      <td>2.487500</td>\n",
       "    </tr>\n",
       "    <tr>\n",
       "      <th>50%</th>\n",
       "      <td>6.965000</td>\n",
       "      <td>2.995000</td>\n",
       "    </tr>\n",
       "    <tr>\n",
       "      <th>75%</th>\n",
       "      <td>7.737500</td>\n",
       "      <td>3.492500</td>\n",
       "    </tr>\n",
       "    <tr>\n",
       "      <th>max</th>\n",
       "      <td>9.580000</td>\n",
       "      <td>4.620000</td>\n",
       "    </tr>\n",
       "  </tbody>\n",
       "</table>\n",
       "</div>"
      ],
      "text/plain": [
       "             cgpa     package\n",
       "count  200.000000  200.000000\n",
       "mean     6.990500    2.996050\n",
       "std      1.069409    0.691644\n",
       "min      4.260000    1.370000\n",
       "25%      6.190000    2.487500\n",
       "50%      6.965000    2.995000\n",
       "75%      7.737500    3.492500\n",
       "max      9.580000    4.620000"
      ]
     },
     "execution_count": 44,
     "metadata": {},
     "output_type": "execute_result"
    }
   ],
   "source": [
    "# description of data\n",
    "data.describe()"
   ]
  },
  {
   "cell_type": "code",
   "execution_count": 7,
   "id": "6e234def-99a3-4f76-b191-3f6afd148a65",
   "metadata": {},
   "outputs": [
    {
     "name": "stdout",
     "output_type": "stream",
     "text": [
      "<class 'pandas.core.frame.DataFrame'>\n",
      "RangeIndex: 200 entries, 0 to 199\n",
      "Data columns (total 2 columns):\n",
      " #   Column   Non-Null Count  Dtype  \n",
      "---  ------   --------------  -----  \n",
      " 0   cgpa     200 non-null    float64\n",
      " 1   package  200 non-null    float64\n",
      "dtypes: float64(2)\n",
      "memory usage: 3.3 KB\n"
     ]
    }
   ],
   "source": [
    "# TO Know about Data \n",
    "data.info()"
   ]
  },
  {
   "cell_type": "code",
   "execution_count": 45,
   "id": "01aa33fd-60dc-4311-8978-fb36aebdce33",
   "metadata": {},
   "outputs": [
    {
     "data": {
      "text/html": [
       "<div>\n",
       "<style scoped>\n",
       "    .dataframe tbody tr th:only-of-type {\n",
       "        vertical-align: middle;\n",
       "    }\n",
       "\n",
       "    .dataframe tbody tr th {\n",
       "        vertical-align: top;\n",
       "    }\n",
       "\n",
       "    .dataframe thead th {\n",
       "        text-align: right;\n",
       "    }\n",
       "</style>\n",
       "<table border=\"1\" class=\"dataframe\">\n",
       "  <thead>\n",
       "    <tr style=\"text-align: right;\">\n",
       "      <th></th>\n",
       "      <th>cgpa</th>\n",
       "      <th>package</th>\n",
       "    </tr>\n",
       "  </thead>\n",
       "  <tbody>\n",
       "    <tr>\n",
       "      <th>cgpa</th>\n",
       "      <td>1.000000</td>\n",
       "      <td>0.880692</td>\n",
       "    </tr>\n",
       "    <tr>\n",
       "      <th>package</th>\n",
       "      <td>0.880692</td>\n",
       "      <td>1.000000</td>\n",
       "    </tr>\n",
       "  </tbody>\n",
       "</table>\n",
       "</div>"
      ],
      "text/plain": [
       "             cgpa   package\n",
       "cgpa     1.000000  0.880692\n",
       "package  0.880692  1.000000"
      ]
     },
     "execution_count": 45,
     "metadata": {},
     "output_type": "execute_result"
    }
   ],
   "source": [
    "# correlation of data\n",
    "data.corr()"
   ]
  },
  {
   "cell_type": "code",
   "execution_count": 9,
   "id": "7365a0b6-0d61-4704-b226-2484cdaf623a",
   "metadata": {},
   "outputs": [
    {
     "data": {
      "text/plain": [
       "<Axes: xlabel='cgpa', ylabel='package'>"
      ]
     },
     "execution_count": 9,
     "metadata": {},
     "output_type": "execute_result"
    },
    {
     "data": {
      "image/png": "[encoded data removed]",
      "text/plain": [
       "<Figure size 640x480 with 1 Axes>"
      ]
     },
     "metadata": {},
     "output_type": "display_data"
    }
   ],
   "source": [
    "# visualization of data\n",
    "sns.scatterplot(x='cgpa',y='package',data=data)"
   ]
  },
  {
   "cell_type": "code",
   "execution_count": 10,
   "id": "50ab98a3-967f-479f-8030-56cf1909f9c3",
   "metadata": {},
   "outputs": [],
   "source": [
    "x=data[['cgpa']]\n",
    "y=data['package']"
   ]
  },
  {
   "cell_type": "markdown",
   "id": "ea5ac180-6abe-4187-a845-fe095175dcc5",
   "metadata": {},
   "source": [
    "# Train_Test_Split"
   ]
  },
  {
   "cell_type": "code",
   "execution_count": 11,
   "id": "0460e2d6-6943-4685-8b01-43d82d404245",
   "metadata": {},
   "outputs": [],
   "source": [
    "from sklearn.model_selection import train_test_split\n",
    "x_train,x_test,y_train,y_test=train_test_split(x,y,test_size=0.20,random_state=17)"
   ]
  },
  {
   "cell_type": "code",
   "execution_count": 12,
   "id": "a681314c-1e16-4378-a8a5-4deae3e1a5f6",
   "metadata": {},
   "outputs": [
    {
     "data": {
      "text/plain": [
       "((160, 1), (40, 1), (160,), (40,))"
      ]
     },
     "execution_count": 12,
     "metadata": {},
     "output_type": "execute_result"
    }
   ],
   "source": [
    "x_train.shape,x_test.shape,y_train.shape,y_test.shape,\n"
   ]
  },
  {
   "cell_type": "code",
   "execution_count": 36,
   "id": "63f7d6a2-4a58-49dd-aa5c-57bca8120bcb",
   "metadata": {},
   "outputs": [
    {
     "data": {
      "text/html": [
       "<div>\n",
       "<style scoped>\n",
       "    .dataframe tbody tr th:only-of-type {\n",
       "        vertical-align: middle;\n",
       "    }\n",
       "\n",
       "    .dataframe tbody tr th {\n",
       "        vertical-align: top;\n",
       "    }\n",
       "\n",
       "    .dataframe thead th {\n",
       "        text-align: right;\n",
       "    }\n",
       "</style>\n",
       "<table border=\"1\" class=\"dataframe\">\n",
       "  <thead>\n",
       "    <tr style=\"text-align: right;\">\n",
       "      <th></th>\n",
       "      <th>cgpa</th>\n",
       "    </tr>\n",
       "  </thead>\n",
       "  <tbody>\n",
       "    <tr>\n",
       "      <th>0</th>\n",
       "      <td>6.89</td>\n",
       "    </tr>\n",
       "    <tr>\n",
       "      <th>146</th>\n",
       "      <td>6.07</td>\n",
       "    </tr>\n",
       "    <tr>\n",
       "      <th>158</th>\n",
       "      <td>5.95</td>\n",
       "    </tr>\n",
       "    <tr>\n",
       "      <th>176</th>\n",
       "      <td>6.29</td>\n",
       "    </tr>\n",
       "    <tr>\n",
       "      <th>197</th>\n",
       "      <td>7.21</td>\n",
       "    </tr>\n",
       "  </tbody>\n",
       "</table>\n",
       "</div>"
      ],
      "text/plain": [
       "     cgpa\n",
       "0    6.89\n",
       "146  6.07\n",
       "158  5.95\n",
       "176  6.29\n",
       "197  7.21"
      ]
     },
     "execution_count": 36,
     "metadata": {},
     "output_type": "execute_result"
    }
   ],
   "source": [
    "x_test.head()"
   ]
  },
  {
   "cell_type": "code",
   "execution_count": 35,
   "id": "31eec157-3e2a-45c8-ba8a-45b3fc55d0e4",
   "metadata": {},
   "outputs": [
    {
     "data": {
      "text/plain": [
       "0      3.26\n",
       "146    2.46\n",
       "158    3.04\n",
       "176    3.23\n",
       "197    3.24\n",
       "Name: package, dtype: float64"
      ]
     },
     "execution_count": 35,
     "metadata": {},
     "output_type": "execute_result"
    }
   ],
   "source": [
    "y_test.head()"
   ]
  },
  {
   "cell_type": "code",
   "execution_count": 46,
   "id": "d4ad083a-92c6-4107-8568-855e21589435",
   "metadata": {},
   "outputs": [],
   "source": [
    "# import LinearRegression model\n",
    "from sklearn.linear_model import LinearRegression\n"
   ]
  },
  {
   "cell_type": "markdown",
   "id": "8f45a0bd-38ae-4ec7-a739-2701f99c5c4a",
   "metadata": {},
   "source": [
    "## Fit Data to the Model"
   ]
  },
  {
   "cell_type": "code",
   "execution_count": 16,
   "id": "5b93759f-2901-4c93-8a41-ecdd5f1c33e2",
   "metadata": {},
   "outputs": [
    {
     "data": {
      "text/html": [
       "<style>#sk-container-id-1 {color: black;background-color: white;}#sk-container-id-1 pre{padding: 0;}#sk-container-id-1 div.sk-toggleable {background-color: white;}#sk-container-id-1 label.sk-toggleable__label {cursor: pointer;display: block;width: 100%;margin-bottom: 0;padding: 0.3em;box-sizing: border-box;text-align: center;}#sk-container-id-1 label.sk-toggleable__label-arrow:before {content: \"▸\";float: left;margin-right: 0.25em;color: #696969;}#sk-container-id-1 label.sk-toggleable__label-arrow:hover:before {color: black;}#sk-container-id-1 div.sk-estimator:hover label.sk-toggleable__label-arrow:before {color: black;}#sk-container-id-1 div.sk-toggleable__content {max-height: 0;max-width: 0;overflow: hidden;text-align: left;background-color: #f0f8ff;}#sk-container-id-1 div.sk-toggleable__content pre {margin: 0.2em;color: black;border-radius: 0.25em;background-color: #f0f8ff;}#sk-container-id-1 input.sk-toggleable__control:checked~div.sk-toggleable__content {max-height: 200px;max-width: 100%;overflow: auto;}#sk-container-id-1 input.sk-toggleable__control:checked~label.sk-toggleable__label-arrow:before {content: \"▾\";}#sk-container-id-1 div.sk-estimator input.sk-toggleable__control:checked~label.sk-toggleable__label {background-color: #d4ebff;}#sk-container-id-1 div.sk-label input.sk-toggleable__control:checked~label.sk-toggleable__label {background-color: #d4ebff;}#sk-container-id-1 input.sk-hidden--visually {border: 0;clip: rect(1px 1px 1px 1px);clip: rect(1px, 1px, 1px, 1px);height: 1px;margin: -1px;overflow: hidden;padding: 0;position: absolute;width: 1px;}#sk-container-id-1 div.sk-estimator {font-family: monospace;background-color: #f0f8ff;border: 1px dotted black;border-radius: 0.25em;box-sizing: border-box;margin-bottom: 0.5em;}#sk-container-id-1 div.sk-estimator:hover {background-color: #d4ebff;}#sk-container-id-1 div.sk-parallel-item::after {content: \"\";width: 100%;border-bottom: 1px solid gray;flex-grow: 1;}#sk-container-id-1 div.sk-label:hover label.sk-toggleable__label {background-color: #d4ebff;}#sk-container-id-1 div.sk-serial::before {content: \"\";position: absolute;border-left: 1px solid gray;box-sizing: border-box;top: 0;bottom: 0;left: 50%;z-index: 0;}#sk-container-id-1 div.sk-serial {display: flex;flex-direction: column;align-items: center;background-color: white;padding-right: 0.2em;padding-left: 0.2em;position: relative;}#sk-container-id-1 div.sk-item {position: relative;z-index: 1;}#sk-container-id-1 div.sk-parallel {display: flex;align-items: stretch;justify-content: center;background-color: white;position: relative;}#sk-container-id-1 div.sk-item::before, #sk-container-id-1 div.sk-parallel-item::before {content: \"\";position: absolute;border-left: 1px solid gray;box-sizing: border-box;top: 0;bottom: 0;left: 50%;z-index: -1;}#sk-container-id-1 div.sk-parallel-item {display: flex;flex-direction: column;z-index: 1;position: relative;background-color: white;}#sk-container-id-1 div.sk-parallel-item:first-child::after {align-self: flex-end;width: 50%;}#sk-container-id-1 div.sk-parallel-item:last-child::after {align-self: flex-start;width: 50%;}#sk-container-id-1 div.sk-parallel-item:only-child::after {width: 0;}#sk-container-id-1 div.sk-dashed-wrapped {border: 1px dashed gray;margin: 0 0.4em 0.5em 0.4em;box-sizing: border-box;padding-bottom: 0.4em;background-color: white;}#sk-container-id-1 div.sk-label label {font-family: monospace;font-weight: bold;display: inline-block;line-height: 1.2em;}#sk-container-id-1 div.sk-label-container {text-align: center;}#sk-container-id-1 div.sk-container {/* jupyter's `normalize.less` sets `[hidden] { display: none; }` but bootstrap.min.css set `[hidden] { display: none !important; }` so we also need the `!important` here to be able to override the default hidden behavior on the sphinx rendered scikit-learn.org. See: https://github.com/scikit-learn/scikit-learn/issues/21755 */display: inline-block !important;position: relative;}#sk-container-id-1 div.sk-text-repr-fallback {display: none;}</style><div id=\"sk-container-id-1\" class=\"sk-top-container\"><div class=\"sk-text-repr-fallback\"><pre>LinearRegression()</pre><b>In a Jupyter environment, please rerun this cell to show the HTML representation or trust the notebook. <br />On GitHub, the HTML representation is unable to render, please try loading this page with nbviewer.org.</b></div><div class=\"sk-container\" hidden><div class=\"sk-item\"><div class=\"sk-estimator sk-toggleable\"><input class=\"sk-toggleable__control sk-hidden--visually\" id=\"sk-estimator-id-1\" type=\"checkbox\" checked><label for=\"sk-estimator-id-1\" class=\"sk-toggleable__label sk-toggleable__label-arrow\">LinearRegression</label><div class=\"sk-toggleable__content\"><pre>LinearRegression()</pre></div></div></div></div></div>"
      ],
      "text/plain": [
       "LinearRegression()"
      ]
     },
     "execution_count": 16,
     "metadata": {},
     "output_type": "execute_result"
    }
   ],
   "source": [
    "model=LinearRegression()\n",
    "model.fit(x_train,y_train)"
   ]
  },
  {
   "cell_type": "code",
   "execution_count": 48,
   "id": "d144011a-c56e-4115-8350-08e98d463406",
   "metadata": {},
   "outputs": [],
   "source": [
    "# prediction of Data\n",
    "y_pred=model.predict(x_test)"
   ]
  },
  {
   "cell_type": "code",
   "execution_count": 49,
   "id": "68946c6a-a4d9-4d07-a533-5e3d4c330e1b",
   "metadata": {},
   "outputs": [
    {
     "data": {
      "text/plain": [
       "array([2.58102356])"
      ]
     },
     "execution_count": 49,
     "metadata": {},
     "output_type": "execute_result"
    }
   ],
   "source": [
    "#for one data checking\n",
    "model.predict(x_test.iloc[3].values.reshape(1,1))\n"
   ]
  },
  {
   "cell_type": "markdown",
   "id": "96cf1c81-8f23-4f21-bacb-41abe7435310",
   "metadata": {},
   "source": [
    "## Distribution of Data Arround best fitline"
   ]
  },
  {
   "cell_type": "code",
   "execution_count": 50,
   "id": "36b03260-9c84-4180-9c44-5698fa8c26a2",
   "metadata": {},
   "outputs": [
    {
     "data": {
      "image/png": "[encoded data removed]",
      "text/plain": [
       "<Figure size 640x480 with 1 Axes>"
      ]
     },
     "metadata": {},
     "output_type": "display_data"
    }
   ],
   "source": [
    "# Plotting the graph of testing values\n",
    "plt.scatter(data['cgpa'],data['package'])\n",
    "plt.plot(x_test , y_pred, color = \"red\")\n",
    "plt.show()"
   ]
  },
  {
   "cell_type": "code",
   "execution_count": 20,
   "id": "794708e0-259f-4af2-a0ca-b64e0e0d32d8",
   "metadata": {},
   "outputs": [],
   "source": [
    "# y = m*x + c\n",
    "# Here, y = dependent variable\n",
    "# x = Independent variable\n",
    "# m = slope\n",
    "# c = intercept"
   ]
  },
  {
   "cell_type": "code",
   "execution_count": 21,
   "id": "4e9dc547-ee1d-409c-9005-bbe11ad53aa9",
   "metadata": {},
   "outputs": [],
   "source": [
    "# linear equation is y= mx+c\n",
    "m = model.coef_\n",
    "c = model.intercept_\n"
   ]
  },
  {
   "cell_type": "code",
   "execution_count": 22,
   "id": "89d664df-81f1-4d91-be0a-ecc1df4d4567",
   "metadata": {},
   "outputs": [
    {
     "data": {
      "text/plain": [
       "array([2.58102356])"
      ]
     },
     "execution_count": 22,
     "metadata": {},
     "output_type": "execute_result"
    }
   ],
   "source": [
    "# y = m * x + c\n",
    "y = m *6.29 + c\n",
    "y"
   ]
  },
  {
   "cell_type": "markdown",
   "id": "218f4cb5-afa3-49a5-8bef-5334a4ba5bd1",
   "metadata": {},
   "source": [
    "# Error Metrics in Machine Learning: MAE, MSE, RMSE, and R²\r\n",
    "\r\n",
    "When building and evaluating machine learning models, especially regression models, it is crucial to measure how well our model is performing. There are several metrics to assess the accuracy of predictions. This document will cover four commonly used metrics: Mean Absolute Error (MAE), Mean Squared Error (MSE), Root Mean Squared Error (RMSE), and R-squared (R²).\r\n",
    "\r\n",
    "## Mean Absolute Error (MAE)\r\n",
    "\r\n",
    "### Definition\r\n",
    "Mean Absolute Error (MAE) is the average of the absolute differences between the predicted values and the actual values. It is a straightforward metric that measures the average magnitude of errors in a set of predictions, without considering their direction.\r\n",
    "\r\n",
    "### Formula\r\n",
    "\\[ \\text{MAE} = \\frac{1}{n} \\sum_{i=1}^{n} | y_i - \\hat{y}_i | \\]\r\n",
    "\r\n",
    "where:\r\n",
    "- \\( y_i \\) is the actual value,\r\n",
    "- \\( \\hat{y}_i \\) is the predicted value,\r\n",
    "- \\( n \\) is the number of observations.\r\n",
    "\r\n",
    "### Interpretation\r\n",
    "MAE is easy to understand and interpret. It represents the average absolute deviation of predictions from the actual values. A lower MAE indicates a better fit of the model to the data. However, MAE does not give information about the direction of the errors (whether the predictions are higher or lower than the actual values).\r\n",
    "\r\n",
    "## Mean Squared Error (MSE)\r\n",
    "\r\n",
    "### Definition\r\n",
    "Mean Squared Error (MSE) is the average of the squared differences between the predicted values and the actual values. By squaring the errors, MSE penalizes larger errors more than smaller ones, making it sensitive to outliers.\r\n",
    "\r\n",
    "### Formula\r\n",
    "\\[ \\text{MSE} = \\frac{1}{n} \\sum_{i=1}^{n} ( y_i - \\hat{y}_i )^2 \\]\r\n",
    "\r\n",
    "where:\r\n",
    "- \\( y_i \\) is the actual value,\r\n",
    "- \\( \\hat{y}_i \\) is the predicted value,\r\n",
    "- \\( n \\) is the number of observations.\r\n",
    "\r\n",
    "### Interpretation\r\n",
    "MSE is a commonly used metric because it heavily penalizes larger errors. It provides a good indication of the model's performance, especially when large errors are particularly undesirable. A lower MSE indicates a better fit. However, because MSE squares the errors, it can be harder to interpret directly compared to MAE.\r\n",
    "\r\n",
    "## Root Mean Squared Error (RMSE)\r\n",
    "\r\n",
    "### Definition\r\n",
    "Root Mean Squared Error (RMSE) is the square root of the Mean Squared Error (MSE). It provides an error metric in the same units as the original data, making it easier to interpret than MSE.\r\n",
    "\r\n",
    "### Formula\r\n",
    "\\[ \\text{RMSE} = \\sqrt{ \\frac{1}{n} \\sum_{i=1}^{n} ( y_i - \\hat{y}_i )^2 } \\]\r\n",
    "\r\n",
    "where:\r\n",
    "- \\( y_i \\) is the actual value,\r\n",
    "- \\( \\hat{y}_i \\) is the predicted value,\r\n",
    "- \\( n \\) is the number of observations.\r\n",
    "\r\n",
    "### Interpretation\r\n",
    "RMSE is often preferred because it is in the same units as the dependent variable. It provides a measure of how well the model predicts the actual values. Like MSE, RMSE penalizes larger errors more heavily. A lower RMSE indicates a better fit of the model to the data.\r\n",
    "\r\n",
    "## R-squared (R²)\r\n",
    "\r\n",
    "### Definition\r\n",
    "R-squared (R²) is a statistical measure that represents the proportion of the variance for a dependent variable that is explained by an independent variable or variables in a regression model. It is also known as the coefficient of determination.\r\n",
    "\r\n",
    "### Formula\r\n",
    "\\[ R^2 = 1 - \\frac{SS_{res}}{SS_{tot}} \\]\r\n",
    "\r\n",
    "where:\r\n",
    "- \\( SS_{res} \\) is the sum of squares of residuals (the differences between the actual and predicted values),\r\n",
    "- \\( SS_{tot} \\) is the total sum of squares (the differences between the actual values and the mean of the actual values).\r\n",
    "\r\n",
    "### Interpretation\r\n",
    "R² provides an indication of the goodness of fit of a model. It ranges from 0 to 1:\r\n",
    "- \\( R^2 = 1 \\): The model explains all the variability of the response data around its mean.\r\n",
    "- \\( R^2 = 0 \\): The model explains none of the variability of the response data around its mean.\r\n",
    "\r\n",
    "An \\( R^2 \\) value closer to 1 indicates that a larger proportion of the variance is accounted for by the model, while a value closer to 0 indicates that the model does not explain much of the variance in the data. However, R² should be used with caution, as it can be misleading in cases of overfitting or when dealing with non-linear relationships.\r\n",
    "\r\n",
    "## Conclusion\r\n",
    "\r\n",
    "When evaluating regression models, it is essential to use appropriate error metrics to understand the performance of the model. MAE, MSE, RMSE, and R² are some of the most commonly used metrics:\r\n",
    "\r\n",
    "- **MAE** provides a simple measure of the average magnitude of errors.\r\n",
    "- **MSE** and **RMSE** offer a way to penalize larger errors more heavily, with RMSE being easier to interpret.\r\n",
    "- **R²** provides a measure of how well the model explains the variance in the data.\r\n",
    "\r\n",
    "Choosing the right metric depends on the specific requirements and characteristics of your problem and data. Often, using multiple metrics together can provide a more comprehensive understanding of the model's performance.\r\n"
   ]
  },
  {
   "cell_type": "code",
   "execution_count": 23,
   "id": "672d39c5-e815-4479-86e8-a2e78c09182d",
   "metadata": {},
   "outputs": [
    {
     "name": "stdout",
     "output_type": "stream",
     "text": [
      "Mean Absolute Error: 0.24462502749846307\n",
      "Mean Squared Error: 0.10011445050108465\n",
      "Root Mean Squared Error: 0.31640867639981785\n",
      "R-squared: 0.6778264290984857\n"
     ]
    }
   ],
   "source": [
    "from sklearn.metrics import mean_absolute_error, mean_squared_error, r2_score\n",
    "# Assuming lr is your linear regression model\n",
    "\n",
    "y_pred = model.predict(x_test)  # Predicted values\n",
    "y_true = y_test  # True values from the test set\n",
    "\n",
    "# Calculate evaluation metrics\n",
    "mae = mean_absolute_error(y_true, y_pred)\n",
    "mse = mean_squared_error(y_true, y_pred)\n",
    "rmse = np.sqrt(mse)\n",
    "r2 = r2_score(y_true, y_pred)\n",
    "\n",
    "print(\"Mean Absolute Error:\", mae)\n",
    "print(\"Mean Squared Error:\", mse)\n",
    "print(\"Root Mean Squared Error:\", rmse)\n",
    "print(\"R-squared:\", r2)"
   ]
  },
  {
   "cell_type": "markdown",
   "id": "fcee97ff-e949-4df4-85e1-99ac8c201882",
   "metadata": {},
   "source": [
    "# visualization of accuracy"
   ]
  },
  {
   "cell_type": "code",
   "execution_count": 32,
   "id": "7848a786-4909-47d6-9417-0acfaa149654",
   "metadata": {},
   "outputs": [
    {
     "data": {
      "image/png": "[encoded data removed]",
      "text/plain": [
       "<Figure size 1000x600 with 1 Axes>"
      ]
     },
     "metadata": {},
     "output_type": "display_data"
    }
   ],
   "source": [
    "# Prepare data for plotting\n",
    "metrics = ['MAE', 'MSE', 'RMSE', 'R²']\n",
    "values = [mae, mse, rmse, r2]\n",
    "# Create a bar chart\n",
    "plt.figure(figsize=(10, 6))\n",
    "plt.bar(metrics, values, color=['blue', 'green', 'red', 'purple'])\n",
    "\n",
    "# Add text annotations\n",
    "for i in range(len(metrics)):\n",
    "    plt.text(i, values[i] + (0.1 * values[i]), f\"{values[i]:.2f}\", ha='center')\n",
    "\n",
    "# Add labels and title\n",
    "plt.xlabel('Metrics')\n",
    "plt.ylabel('Values')\n",
    "\n",
    "plt.title('Regression Model Error Metrics')\n",
    "plt.ylim(0, max(values) + 0.5 * max(values))\n",
    "\n",
    "# Show the plot\n",
    "plt.show()"
   ]
  },
  {
   "cell_type": "code",
   "execution_count": null,
   "id": "30ef0d33-b1b2-4044-a57a-6f90d9331d99",
   "metadata": {},
   "outputs": [],
   "source": []
  },
  {
   "cell_type": "code",
   "execution_count": null,
   "id": "d718572c-6be3-45b9-806d-2edd7a37d97a",
   "metadata": {},
   "outputs": [],
   "source": []
  }
 ],
 "metadata": {
  "kernelspec": {
   "display_name": "Python 3 (ipykernel)",
   "language": "python",
   "name": "python3"
  },
  "language_info": {
   "codemirror_mode": {
    "name": "ipython",
    "version": 3
   },
   "file_extension": ".py",
   "mimetype": "text/x-python",
   "name": "python",
   "nbconvert_exporter": "python",
   "pygments_lexer": "ipython3",
   "version": "3.11.7"
  }
 },
 "nbformat": 4,
 "nbformat_minor": 5
}
